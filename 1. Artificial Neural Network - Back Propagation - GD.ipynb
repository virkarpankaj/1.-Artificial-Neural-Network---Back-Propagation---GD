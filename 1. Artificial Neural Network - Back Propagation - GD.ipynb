{
 "cells": [
  {
   "cell_type": "code",
   "execution_count": 1,
   "id": "4115ebad",
   "metadata": {},
   "outputs": [],
   "source": [
    "import pandas as pd\n",
    "import numpy as np\n",
    "\n",
    "import matplotlib.pyplot as plt\n",
    "%matplotlib inline\n",
    "\n",
    "import seaborn as sns\n",
    "sns.set()"
   ]
  },
  {
   "cell_type": "code",
   "execution_count": 2,
   "id": "9f25773b",
   "metadata": {},
   "outputs": [],
   "source": [
    "import tensorflow as tf\n",
    "\n",
    "from keras.models import Sequential\n",
    "from keras.layers import Dense\n"
   ]
  },
  {
   "cell_type": "code",
   "execution_count": null,
   "id": "6a031d0d",
   "metadata": {},
   "outputs": [],
   "source": []
  },
  {
   "cell_type": "code",
   "execution_count": 3,
   "id": "e67bd3cb",
   "metadata": {},
   "outputs": [
    {
     "data": {
      "text/plain": [
       "array([[  6.   , 148.   ,  72.   , ...,   0.627,  50.   ,   1.   ],\n",
       "       [  1.   ,  85.   ,  66.   , ...,   0.351,  31.   ,   0.   ],\n",
       "       [  8.   , 183.   ,  64.   , ...,   0.672,  32.   ,   1.   ],\n",
       "       ...,\n",
       "       [  5.   , 121.   ,  72.   , ...,   0.245,  30.   ,   0.   ],\n",
       "       [  1.   , 126.   ,  60.   , ...,   0.349,  47.   ,   1.   ],\n",
       "       [  1.   ,  93.   ,  70.   , ...,   0.315,  23.   ,   0.   ]])"
      ]
     },
     "execution_count": 3,
     "metadata": {},
     "output_type": "execute_result"
    }
   ],
   "source": [
    "# fix random seed for reproducibility\n",
    "seed = 7\n",
    "np.random.seed(seed)\n",
    "\n",
    "pima = np.loadtxt('pima-indians-diabetes.csv',delimiter= ',')\n",
    "pima"
   ]
  },
  {
   "cell_type": "code",
   "execution_count": 4,
   "id": "43226521",
   "metadata": {},
   "outputs": [],
   "source": [
    "x = pima[:,0:8]\n",
    "y = pima[:,8]"
   ]
  },
  {
   "cell_type": "code",
   "execution_count": null,
   "id": "6066f598",
   "metadata": {},
   "outputs": [],
   "source": []
  },
  {
   "cell_type": "code",
   "execution_count": null,
   "id": "f939bae8",
   "metadata": {},
   "outputs": [],
   "source": [
    "# we are applying NN algo here to Classification Prob "
   ]
  },
  {
   "cell_type": "code",
   "execution_count": null,
   "id": "4de52626",
   "metadata": {},
   "outputs": [],
   "source": [
    "# input layer - Hinden Layer - Output layer\n",
    "# since feature is 8 -input layer is 8 (not less than features)\n",
    "# output layer - either 1 or 2 (p,1-p)  as it is classification prob\n",
    "# Hidden layer - upto us\n",
    "# activation - sigmoid for linear data, Relu,leaky relu "
   ]
  },
  {
   "cell_type": "code",
   "execution_count": 5,
   "id": "f4709087",
   "metadata": {},
   "outputs": [],
   "source": [
    "# form of model\n",
    "nn_model = tf.keras.models.Sequential()\n",
    "\n",
    "# Adding hidden layers \n",
    "\n",
    "nn_model.add(tf.keras.layers.Dense(12,input_dim=8,activation = 'sigmoid'))  # hidden layer & input layer\n",
    "\n",
    "nn_model.add(tf.keras.layers.Dense(9,activation='sigmoid'))  # hidden layer\n",
    "\n",
    "nn_model.add(tf.keras.layers.Dense(1,activation='sigmoid')) # out layer"
   ]
  },
  {
   "cell_type": "code",
   "execution_count": 6,
   "id": "f44b7735",
   "metadata": {},
   "outputs": [
    {
     "name": "stdout",
     "output_type": "stream",
     "text": [
      "Model: \"sequential\"\n",
      "_________________________________________________________________\n",
      " Layer (type)                Output Shape              Param #   \n",
      "=================================================================\n",
      " dense (Dense)               (None, 12)                108       \n",
      "                                                                 \n",
      " dense_1 (Dense)             (None, 9)                 117       \n",
      "                                                                 \n",
      " dense_2 (Dense)             (None, 1)                 10        \n",
      "                                                                 \n",
      "=================================================================\n",
      "Total params: 235\n",
      "Trainable params: 235\n",
      "Non-trainable params: 0\n",
      "_________________________________________________________________\n"
     ]
    }
   ],
   "source": [
    "nn_model.summary()"
   ]
  },
  {
   "attachments": {
    "image.png": {
     "image/png": "[encoded data removed]"
    }
   },
   "cell_type": "markdown",
   "id": "f3681bab",
   "metadata": {},
   "source": [
    "![image.png](attachment:image.png)"
   ]
  },
  {
   "cell_type": "code",
   "execution_count": null,
   "id": "5b63c540",
   "metadata": {},
   "outputs": [],
   "source": [
    "# param ---  8 -> 12 -> 9 -> 1\n",
    "# 12 * 8 + 12 (bias points = equals to neuron) = 108\n",
    "# 9*12 + 9 = 117\n",
    "# 1*9 +1 = 10"
   ]
  },
  {
   "cell_type": "code",
   "execution_count": 7,
   "id": "2c1be30e",
   "metadata": {},
   "outputs": [],
   "source": [
    "## Model Compile  === Loss function, optimizer, metric \n",
    "\n",
    "nn_model.compile(loss = 'binary_crossentropy',optimizer ='adam', metrics=['accuracy'])"
   ]
  },
  {
   "cell_type": "code",
   "execution_count": 8,
   "id": "0caf2a04",
   "metadata": {},
   "outputs": [
    {
     "name": "stdout",
     "output_type": "stream",
     "text": [
      "Epoch 1/200\n",
      "7/7 [==============================] - 2s 77ms/step - loss: 0.7349 - accuracy: 0.3469 - val_loss: 0.7240 - val_accuracy: 0.3571\n",
      "Epoch 2/200\n",
      "7/7 [==============================] - 0s 11ms/step - loss: 0.7215 - accuracy: 0.3485 - val_loss: 0.7118 - val_accuracy: 0.3571\n",
      "Epoch 3/200\n",
      "7/7 [==============================] - 0s 12ms/step - loss: 0.7098 - accuracy: 0.3567 - val_loss: 0.7005 - val_accuracy: 0.3961\n",
      "Epoch 4/200\n",
      "7/7 [==============================] - 0s 15ms/step - loss: 0.6990 - accuracy: 0.4674 - val_loss: 0.6908 - val_accuracy: 0.5779\n",
      "Epoch 5/200\n",
      "7/7 [==============================] - 0s 13ms/step - loss: 0.6895 - accuracy: 0.5521 - val_loss: 0.6830 - val_accuracy: 0.6039\n",
      "Epoch 6/200\n",
      "7/7 [==============================] - 0s 12ms/step - loss: 0.6816 - accuracy: 0.6026 - val_loss: 0.6765 - val_accuracy: 0.6299\n",
      "Epoch 7/200\n",
      "7/7 [==============================] - 0s 10ms/step - loss: 0.6748 - accuracy: 0.6564 - val_loss: 0.6709 - val_accuracy: 0.6364\n",
      "Epoch 8/200\n",
      "7/7 [==============================] - 0s 11ms/step - loss: 0.6686 - accuracy: 0.6531 - val_loss: 0.6663 - val_accuracy: 0.6429\n",
      "Epoch 9/200\n",
      "7/7 [==============================] - 0s 11ms/step - loss: 0.6639 - accuracy: 0.6531 - val_loss: 0.6620 - val_accuracy: 0.6429\n",
      "Epoch 10/200\n",
      "7/7 [==============================] - 0s 12ms/step - loss: 0.6594 - accuracy: 0.6531 - val_loss: 0.6590 - val_accuracy: 0.6429\n",
      "Epoch 11/200\n",
      "7/7 [==============================] - 0s 10ms/step - loss: 0.6554 - accuracy: 0.6531 - val_loss: 0.6570 - val_accuracy: 0.6429\n",
      "Epoch 12/200\n",
      "7/7 [==============================] - 0s 12ms/step - loss: 0.6522 - accuracy: 0.6531 - val_loss: 0.6553 - val_accuracy: 0.6429\n",
      "Epoch 13/200\n",
      "7/7 [==============================] - 0s 12ms/step - loss: 0.6495 - accuracy: 0.6531 - val_loss: 0.6536 - val_accuracy: 0.6429\n",
      "Epoch 14/200\n",
      "7/7 [==============================] - 0s 10ms/step - loss: 0.6470 - accuracy: 0.6531 - val_loss: 0.6526 - val_accuracy: 0.6429\n",
      "Epoch 15/200\n",
      "7/7 [==============================] - 0s 13ms/step - loss: 0.6452 - accuracy: 0.6531 - val_loss: 0.6517 - val_accuracy: 0.6429\n",
      "Epoch 16/200\n",
      "7/7 [==============================] - 0s 10ms/step - loss: 0.6438 - accuracy: 0.6531 - val_loss: 0.6504 - val_accuracy: 0.6429\n",
      "Epoch 17/200\n",
      "7/7 [==============================] - 0s 10ms/step - loss: 0.6418 - accuracy: 0.6531 - val_loss: 0.6496 - val_accuracy: 0.6429\n",
      "Epoch 18/200\n",
      "7/7 [==============================] - 0s 12ms/step - loss: 0.6404 - accuracy: 0.6531 - val_loss: 0.6492 - val_accuracy: 0.6429\n",
      "Epoch 19/200\n",
      "7/7 [==============================] - 0s 13ms/step - loss: 0.6395 - accuracy: 0.6531 - val_loss: 0.6490 - val_accuracy: 0.6429\n",
      "Epoch 20/200\n",
      "7/7 [==============================] - 0s 11ms/step - loss: 0.6387 - accuracy: 0.6531 - val_loss: 0.6489 - val_accuracy: 0.6429\n",
      "Epoch 21/200\n",
      "7/7 [==============================] - 0s 14ms/step - loss: 0.6379 - accuracy: 0.6531 - val_loss: 0.6488 - val_accuracy: 0.6429\n",
      "Epoch 22/200\n",
      "7/7 [==============================] - 0s 14ms/step - loss: 0.6370 - accuracy: 0.6531 - val_loss: 0.6493 - val_accuracy: 0.6429\n",
      "Epoch 23/200\n",
      "7/7 [==============================] - 0s 8ms/step - loss: 0.6363 - accuracy: 0.6531 - val_loss: 0.6493 - val_accuracy: 0.6429\n",
      "Epoch 24/200\n",
      "7/7 [==============================] - 0s 11ms/step - loss: 0.6355 - accuracy: 0.6531 - val_loss: 0.6493 - val_accuracy: 0.6429\n",
      "Epoch 25/200\n",
      "7/7 [==============================] - 0s 12ms/step - loss: 0.6349 - accuracy: 0.6531 - val_loss: 0.6493 - val_accuracy: 0.6429\n",
      "Epoch 26/200\n",
      "7/7 [==============================] - 0s 11ms/step - loss: 0.6343 - accuracy: 0.6531 - val_loss: 0.6489 - val_accuracy: 0.6429\n",
      "Epoch 27/200\n",
      "7/7 [==============================] - 0s 10ms/step - loss: 0.6338 - accuracy: 0.6531 - val_loss: 0.6489 - val_accuracy: 0.6429\n",
      "Epoch 28/200\n",
      "7/7 [==============================] - 0s 13ms/step - loss: 0.6332 - accuracy: 0.6531 - val_loss: 0.6489 - val_accuracy: 0.6429\n",
      "Epoch 29/200\n",
      "7/7 [==============================] - 0s 12ms/step - loss: 0.6326 - accuracy: 0.6531 - val_loss: 0.6489 - val_accuracy: 0.6429\n",
      "Epoch 30/200\n",
      "7/7 [==============================] - 0s 10ms/step - loss: 0.6318 - accuracy: 0.6531 - val_loss: 0.6493 - val_accuracy: 0.6429\n",
      "Epoch 31/200\n",
      "7/7 [==============================] - 0s 11ms/step - loss: 0.6313 - accuracy: 0.6531 - val_loss: 0.6496 - val_accuracy: 0.6429\n",
      "Epoch 32/200\n",
      "7/7 [==============================] - 0s 12ms/step - loss: 0.6308 - accuracy: 0.6531 - val_loss: 0.6492 - val_accuracy: 0.6429\n",
      "Epoch 33/200\n",
      "7/7 [==============================] - 0s 11ms/step - loss: 0.6301 - accuracy: 0.6531 - val_loss: 0.6488 - val_accuracy: 0.6429\n",
      "Epoch 34/200\n",
      "7/7 [==============================] - 0s 14ms/step - loss: 0.6296 - accuracy: 0.6531 - val_loss: 0.6487 - val_accuracy: 0.6429\n",
      "Epoch 35/200\n",
      "7/7 [==============================] - 0s 11ms/step - loss: 0.6292 - accuracy: 0.6531 - val_loss: 0.6486 - val_accuracy: 0.6429\n",
      "Epoch 36/200\n",
      "7/7 [==============================] - 0s 13ms/step - loss: 0.6285 - accuracy: 0.6531 - val_loss: 0.6485 - val_accuracy: 0.6429\n",
      "Epoch 37/200\n",
      "7/7 [==============================] - 0s 13ms/step - loss: 0.6281 - accuracy: 0.6531 - val_loss: 0.6487 - val_accuracy: 0.6429\n",
      "Epoch 38/200\n",
      "7/7 [==============================] - 0s 11ms/step - loss: 0.6276 - accuracy: 0.6531 - val_loss: 0.6483 - val_accuracy: 0.6429\n",
      "Epoch 39/200\n",
      "7/7 [==============================] - 0s 11ms/step - loss: 0.6269 - accuracy: 0.6531 - val_loss: 0.6480 - val_accuracy: 0.6429\n",
      "Epoch 40/200\n",
      "7/7 [==============================] - 0s 12ms/step - loss: 0.6263 - accuracy: 0.6531 - val_loss: 0.6478 - val_accuracy: 0.6429\n",
      "Epoch 41/200\n",
      "7/7 [==============================] - 0s 10ms/step - loss: 0.6256 - accuracy: 0.6531 - val_loss: 0.6479 - val_accuracy: 0.6429\n",
      "Epoch 42/200\n",
      "7/7 [==============================] - 0s 14ms/step - loss: 0.6248 - accuracy: 0.6531 - val_loss: 0.6478 - val_accuracy: 0.6429\n",
      "Epoch 43/200\n",
      "7/7 [==============================] - 0s 10ms/step - loss: 0.6242 - accuracy: 0.6531 - val_loss: 0.6475 - val_accuracy: 0.6429\n",
      "Epoch 44/200\n",
      "7/7 [==============================] - 0s 13ms/step - loss: 0.6232 - accuracy: 0.6531 - val_loss: 0.6476 - val_accuracy: 0.6429\n",
      "Epoch 45/200\n",
      "7/7 [==============================] - 0s 9ms/step - loss: 0.6221 - accuracy: 0.6531 - val_loss: 0.6480 - val_accuracy: 0.6429\n",
      "Epoch 46/200\n",
      "7/7 [==============================] - 0s 14ms/step - loss: 0.6218 - accuracy: 0.6531 - val_loss: 0.6487 - val_accuracy: 0.6429\n",
      "Epoch 47/200\n",
      "7/7 [==============================] - 0s 14ms/step - loss: 0.6209 - accuracy: 0.6531 - val_loss: 0.6492 - val_accuracy: 0.6429\n",
      "Epoch 48/200\n",
      "7/7 [==============================] - 0s 14ms/step - loss: 0.6202 - accuracy: 0.6531 - val_loss: 0.6490 - val_accuracy: 0.6429\n",
      "Epoch 49/200\n",
      "7/7 [==============================] - 0s 11ms/step - loss: 0.6193 - accuracy: 0.6531 - val_loss: 0.6485 - val_accuracy: 0.6429\n",
      "Epoch 50/200\n",
      "7/7 [==============================] - 0s 11ms/step - loss: 0.6188 - accuracy: 0.6531 - val_loss: 0.6477 - val_accuracy: 0.6429\n",
      "Epoch 51/200\n",
      "7/7 [==============================] - 0s 11ms/step - loss: 0.6181 - accuracy: 0.6531 - val_loss: 0.6479 - val_accuracy: 0.6429\n",
      "Epoch 52/200\n",
      "7/7 [==============================] - 0s 10ms/step - loss: 0.6176 - accuracy: 0.6531 - val_loss: 0.6482 - val_accuracy: 0.6429\n",
      "Epoch 53/200\n",
      "7/7 [==============================] - 0s 12ms/step - loss: 0.6168 - accuracy: 0.6531 - val_loss: 0.6483 - val_accuracy: 0.6429\n",
      "Epoch 54/200\n",
      "7/7 [==============================] - 0s 12ms/step - loss: 0.6162 - accuracy: 0.6531 - val_loss: 0.6481 - val_accuracy: 0.6429\n",
      "Epoch 55/200\n",
      "7/7 [==============================] - 0s 12ms/step - loss: 0.6152 - accuracy: 0.6531 - val_loss: 0.6477 - val_accuracy: 0.6429\n",
      "Epoch 56/200\n",
      "7/7 [==============================] - 0s 12ms/step - loss: 0.6150 - accuracy: 0.6531 - val_loss: 0.6479 - val_accuracy: 0.6429\n",
      "Epoch 57/200\n",
      "7/7 [==============================] - 0s 13ms/step - loss: 0.6147 - accuracy: 0.6531 - val_loss: 0.6478 - val_accuracy: 0.6429\n",
      "Epoch 58/200\n",
      "7/7 [==============================] - 0s 13ms/step - loss: 0.6138 - accuracy: 0.6531 - val_loss: 0.6474 - val_accuracy: 0.6429\n",
      "Epoch 59/200\n",
      "7/7 [==============================] - 0s 10ms/step - loss: 0.6132 - accuracy: 0.6531 - val_loss: 0.6478 - val_accuracy: 0.6429\n",
      "Epoch 60/200\n",
      "7/7 [==============================] - 0s 9ms/step - loss: 0.6122 - accuracy: 0.6531 - val_loss: 0.6477 - val_accuracy: 0.6429\n",
      "Epoch 61/200\n",
      "7/7 [==============================] - 0s 11ms/step - loss: 0.6116 - accuracy: 0.6531 - val_loss: 0.6473 - val_accuracy: 0.6429\n",
      "Epoch 62/200\n",
      "7/7 [==============================] - 0s 13ms/step - loss: 0.6112 - accuracy: 0.6531 - val_loss: 0.6464 - val_accuracy: 0.6429\n",
      "Epoch 63/200\n",
      "7/7 [==============================] - 0s 12ms/step - loss: 0.6107 - accuracy: 0.6531 - val_loss: 0.6460 - val_accuracy: 0.6429\n",
      "Epoch 64/200\n",
      "7/7 [==============================] - 0s 11ms/step - loss: 0.6101 - accuracy: 0.6531 - val_loss: 0.6460 - val_accuracy: 0.6429\n",
      "Epoch 65/200\n",
      "7/7 [==============================] - 0s 14ms/step - loss: 0.6094 - accuracy: 0.6531 - val_loss: 0.6455 - val_accuracy: 0.6429\n",
      "Epoch 66/200\n",
      "7/7 [==============================] - 0s 12ms/step - loss: 0.6087 - accuracy: 0.6531 - val_loss: 0.6463 - val_accuracy: 0.6429\n",
      "Epoch 67/200\n",
      "7/7 [==============================] - 0s 15ms/step - loss: 0.6078 - accuracy: 0.6531 - val_loss: 0.6463 - val_accuracy: 0.6429\n",
      "Epoch 68/200\n",
      "7/7 [==============================] - 0s 12ms/step - loss: 0.6072 - accuracy: 0.6531 - val_loss: 0.6465 - val_accuracy: 0.6429\n",
      "Epoch 69/200\n",
      "7/7 [==============================] - 0s 12ms/step - loss: 0.6068 - accuracy: 0.6531 - val_loss: 0.6472 - val_accuracy: 0.6429\n",
      "Epoch 70/200\n",
      "7/7 [==============================] - 0s 11ms/step - loss: 0.6064 - accuracy: 0.6531 - val_loss: 0.6469 - val_accuracy: 0.6429\n",
      "Epoch 71/200\n",
      "7/7 [==============================] - 0s 11ms/step - loss: 0.6056 - accuracy: 0.6531 - val_loss: 0.6466 - val_accuracy: 0.6429\n",
      "Epoch 72/200\n",
      "7/7 [==============================] - 0s 11ms/step - loss: 0.6047 - accuracy: 0.6531 - val_loss: 0.6469 - val_accuracy: 0.6429\n",
      "Epoch 73/200\n",
      "7/7 [==============================] - 0s 11ms/step - loss: 0.6041 - accuracy: 0.6531 - val_loss: 0.6473 - val_accuracy: 0.6429\n",
      "Epoch 74/200\n",
      "7/7 [==============================] - 0s 10ms/step - loss: 0.6035 - accuracy: 0.6531 - val_loss: 0.6482 - val_accuracy: 0.6429\n",
      "Epoch 75/200\n",
      "7/7 [==============================] - 0s 14ms/step - loss: 0.6030 - accuracy: 0.6531 - val_loss: 0.6475 - val_accuracy: 0.6429\n",
      "Epoch 76/200\n",
      "7/7 [==============================] - 0s 11ms/step - loss: 0.6022 - accuracy: 0.6531 - val_loss: 0.6472 - val_accuracy: 0.6429\n",
      "Epoch 77/200\n",
      "7/7 [==============================] - 0s 11ms/step - loss: 0.6016 - accuracy: 0.6531 - val_loss: 0.6478 - val_accuracy: 0.6429\n",
      "Epoch 78/200\n",
      "7/7 [==============================] - 0s 15ms/step - loss: 0.6011 - accuracy: 0.6531 - val_loss: 0.6483 - val_accuracy: 0.6429\n",
      "Epoch 79/200\n",
      "7/7 [==============================] - 0s 12ms/step - loss: 0.6007 - accuracy: 0.6531 - val_loss: 0.6484 - val_accuracy: 0.6429\n",
      "Epoch 80/200\n",
      "7/7 [==============================] - 0s 11ms/step - loss: 0.6001 - accuracy: 0.6531 - val_loss: 0.6482 - val_accuracy: 0.6429\n",
      "Epoch 81/200\n",
      "7/7 [==============================] - 0s 14ms/step - loss: 0.5997 - accuracy: 0.6531 - val_loss: 0.6481 - val_accuracy: 0.6429\n",
      "Epoch 82/200\n",
      "7/7 [==============================] - 0s 14ms/step - loss: 0.5989 - accuracy: 0.6531 - val_loss: 0.6483 - val_accuracy: 0.6429\n",
      "Epoch 83/200\n",
      "7/7 [==============================] - 0s 13ms/step - loss: 0.5982 - accuracy: 0.6531 - val_loss: 0.6489 - val_accuracy: 0.6429\n",
      "Epoch 84/200\n",
      "7/7 [==============================] - 0s 15ms/step - loss: 0.5977 - accuracy: 0.6531 - val_loss: 0.6485 - val_accuracy: 0.6429\n",
      "Epoch 85/200\n",
      "7/7 [==============================] - 0s 11ms/step - loss: 0.5968 - accuracy: 0.6531 - val_loss: 0.6481 - val_accuracy: 0.6429\n",
      "Epoch 86/200\n",
      "7/7 [==============================] - 0s 11ms/step - loss: 0.5963 - accuracy: 0.6564 - val_loss: 0.6483 - val_accuracy: 0.6429\n",
      "Epoch 87/200\n",
      "7/7 [==============================] - 0s 10ms/step - loss: 0.5959 - accuracy: 0.6629 - val_loss: 0.6482 - val_accuracy: 0.6429\n",
      "Epoch 88/200\n",
      "7/7 [==============================] - 0s 13ms/step - loss: 0.5952 - accuracy: 0.6629 - val_loss: 0.6479 - val_accuracy: 0.6429\n",
      "Epoch 89/200\n",
      "7/7 [==============================] - 0s 14ms/step - loss: 0.5946 - accuracy: 0.6645 - val_loss: 0.6470 - val_accuracy: 0.6429\n",
      "Epoch 90/200\n",
      "7/7 [==============================] - 0s 11ms/step - loss: 0.5942 - accuracy: 0.6661 - val_loss: 0.6464 - val_accuracy: 0.6429\n",
      "Epoch 91/200\n",
      "7/7 [==============================] - 0s 9ms/step - loss: 0.5936 - accuracy: 0.6661 - val_loss: 0.6462 - val_accuracy: 0.6429\n",
      "Epoch 92/200\n",
      "7/7 [==============================] - 0s 12ms/step - loss: 0.5931 - accuracy: 0.6645 - val_loss: 0.6469 - val_accuracy: 0.6429\n",
      "Epoch 93/200\n",
      "7/7 [==============================] - 0s 12ms/step - loss: 0.5925 - accuracy: 0.6645 - val_loss: 0.6479 - val_accuracy: 0.6299\n",
      "Epoch 94/200\n",
      "7/7 [==============================] - 0s 12ms/step - loss: 0.5917 - accuracy: 0.6645 - val_loss: 0.6469 - val_accuracy: 0.6299\n",
      "Epoch 95/200\n",
      "7/7 [==============================] - 0s 10ms/step - loss: 0.5915 - accuracy: 0.6645 - val_loss: 0.6460 - val_accuracy: 0.6364\n",
      "Epoch 96/200\n",
      "7/7 [==============================] - 0s 11ms/step - loss: 0.5911 - accuracy: 0.6645 - val_loss: 0.6464 - val_accuracy: 0.6299\n",
      "Epoch 97/200\n",
      "7/7 [==============================] - 0s 10ms/step - loss: 0.5906 - accuracy: 0.6645 - val_loss: 0.6467 - val_accuracy: 0.6299\n",
      "Epoch 98/200\n",
      "7/7 [==============================] - 0s 12ms/step - loss: 0.5902 - accuracy: 0.6645 - val_loss: 0.6471 - val_accuracy: 0.6299\n",
      "Epoch 99/200\n",
      "7/7 [==============================] - 0s 13ms/step - loss: 0.5891 - accuracy: 0.6645 - val_loss: 0.6473 - val_accuracy: 0.6299\n",
      "Epoch 100/200\n",
      "7/7 [==============================] - 0s 10ms/step - loss: 0.5888 - accuracy: 0.6645 - val_loss: 0.6482 - val_accuracy: 0.6299\n",
      "Epoch 101/200\n",
      "7/7 [==============================] - 0s 13ms/step - loss: 0.5886 - accuracy: 0.6645 - val_loss: 0.6490 - val_accuracy: 0.6299\n",
      "Epoch 102/200\n",
      "7/7 [==============================] - 0s 15ms/step - loss: 0.5887 - accuracy: 0.6645 - val_loss: 0.6491 - val_accuracy: 0.6299\n",
      "Epoch 103/200\n",
      "7/7 [==============================] - 0s 11ms/step - loss: 0.5875 - accuracy: 0.6645 - val_loss: 0.6486 - val_accuracy: 0.6299\n",
      "Epoch 104/200\n",
      "7/7 [==============================] - 0s 13ms/step - loss: 0.5871 - accuracy: 0.6645 - val_loss: 0.6478 - val_accuracy: 0.6299\n",
      "Epoch 105/200\n",
      "7/7 [==============================] - 0s 11ms/step - loss: 0.5865 - accuracy: 0.6645 - val_loss: 0.6476 - val_accuracy: 0.6299\n",
      "Epoch 106/200\n",
      "7/7 [==============================] - 0s 11ms/step - loss: 0.5860 - accuracy: 0.6645 - val_loss: 0.6477 - val_accuracy: 0.6299\n",
      "Epoch 107/200\n",
      "7/7 [==============================] - 0s 11ms/step - loss: 0.5852 - accuracy: 0.6645 - val_loss: 0.6481 - val_accuracy: 0.6299\n",
      "Epoch 108/200\n",
      "7/7 [==============================] - 0s 12ms/step - loss: 0.5848 - accuracy: 0.6645 - val_loss: 0.6475 - val_accuracy: 0.6299\n",
      "Epoch 109/200\n",
      "7/7 [==============================] - 0s 12ms/step - loss: 0.5846 - accuracy: 0.6645 - val_loss: 0.6485 - val_accuracy: 0.6299\n",
      "Epoch 110/200\n",
      "7/7 [==============================] - 0s 14ms/step - loss: 0.5847 - accuracy: 0.6645 - val_loss: 0.6483 - val_accuracy: 0.6364\n",
      "Epoch 111/200\n",
      "7/7 [==============================] - 0s 14ms/step - loss: 0.5837 - accuracy: 0.6694 - val_loss: 0.6474 - val_accuracy: 0.6494\n",
      "Epoch 112/200\n",
      "7/7 [==============================] - 0s 12ms/step - loss: 0.5827 - accuracy: 0.6743 - val_loss: 0.6471 - val_accuracy: 0.6494\n",
      "Epoch 113/200\n",
      "7/7 [==============================] - 0s 10ms/step - loss: 0.5826 - accuracy: 0.6726 - val_loss: 0.6472 - val_accuracy: 0.6494\n",
      "Epoch 114/200\n",
      "7/7 [==============================] - 0s 12ms/step - loss: 0.5820 - accuracy: 0.6792 - val_loss: 0.6477 - val_accuracy: 0.6494\n",
      "Epoch 115/200\n",
      "7/7 [==============================] - 0s 13ms/step - loss: 0.5825 - accuracy: 0.6824 - val_loss: 0.6476 - val_accuracy: 0.6558\n",
      "Epoch 116/200\n",
      "7/7 [==============================] - 0s 11ms/step - loss: 0.5814 - accuracy: 0.6792 - val_loss: 0.6464 - val_accuracy: 0.6558\n",
      "Epoch 117/200\n"
     ]
    },
    {
     "name": "stdout",
     "output_type": "stream",
     "text": [
      "7/7 [==============================] - 0s 14ms/step - loss: 0.5805 - accuracy: 0.6792 - val_loss: 0.6473 - val_accuracy: 0.6494\n",
      "Epoch 118/200\n",
      "7/7 [==============================] - 0s 13ms/step - loss: 0.5803 - accuracy: 0.6808 - val_loss: 0.6486 - val_accuracy: 0.6494\n",
      "Epoch 119/200\n",
      "7/7 [==============================] - 0s 14ms/step - loss: 0.5804 - accuracy: 0.6808 - val_loss: 0.6482 - val_accuracy: 0.6494\n",
      "Epoch 120/200\n",
      "7/7 [==============================] - 0s 14ms/step - loss: 0.5800 - accuracy: 0.6792 - val_loss: 0.6479 - val_accuracy: 0.6494\n",
      "Epoch 121/200\n",
      "7/7 [==============================] - 0s 10ms/step - loss: 0.5794 - accuracy: 0.6808 - val_loss: 0.6482 - val_accuracy: 0.6494\n",
      "Epoch 122/200\n",
      "7/7 [==============================] - 0s 11ms/step - loss: 0.5783 - accuracy: 0.6808 - val_loss: 0.6483 - val_accuracy: 0.6558\n",
      "Epoch 123/200\n",
      "7/7 [==============================] - 0s 12ms/step - loss: 0.5783 - accuracy: 0.6824 - val_loss: 0.6478 - val_accuracy: 0.6558\n",
      "Epoch 124/200\n",
      "7/7 [==============================] - 0s 14ms/step - loss: 0.5776 - accuracy: 0.6840 - val_loss: 0.6485 - val_accuracy: 0.6558\n",
      "Epoch 125/200\n",
      "7/7 [==============================] - 0s 13ms/step - loss: 0.5771 - accuracy: 0.6824 - val_loss: 0.6481 - val_accuracy: 0.6558\n",
      "Epoch 126/200\n",
      "7/7 [==============================] - 0s 13ms/step - loss: 0.5769 - accuracy: 0.6824 - val_loss: 0.6472 - val_accuracy: 0.6558\n",
      "Epoch 127/200\n",
      "7/7 [==============================] - 0s 11ms/step - loss: 0.5764 - accuracy: 0.6792 - val_loss: 0.6479 - val_accuracy: 0.6623\n",
      "Epoch 128/200\n",
      "7/7 [==============================] - 0s 13ms/step - loss: 0.5760 - accuracy: 0.6824 - val_loss: 0.6474 - val_accuracy: 0.6558\n",
      "Epoch 129/200\n",
      "7/7 [==============================] - 0s 11ms/step - loss: 0.5759 - accuracy: 0.6840 - val_loss: 0.6474 - val_accuracy: 0.6623\n",
      "Epoch 130/200\n",
      "7/7 [==============================] - 0s 13ms/step - loss: 0.5754 - accuracy: 0.6824 - val_loss: 0.6474 - val_accuracy: 0.6623\n",
      "Epoch 131/200\n",
      "7/7 [==============================] - 0s 11ms/step - loss: 0.5748 - accuracy: 0.6808 - val_loss: 0.6476 - val_accuracy: 0.6623\n",
      "Epoch 132/200\n",
      "7/7 [==============================] - 0s 11ms/step - loss: 0.5742 - accuracy: 0.6775 - val_loss: 0.6488 - val_accuracy: 0.6623\n",
      "Epoch 133/200\n",
      "7/7 [==============================] - 0s 12ms/step - loss: 0.5738 - accuracy: 0.6792 - val_loss: 0.6485 - val_accuracy: 0.6623\n",
      "Epoch 134/200\n",
      "7/7 [==============================] - 0s 13ms/step - loss: 0.5735 - accuracy: 0.6792 - val_loss: 0.6471 - val_accuracy: 0.6688\n",
      "Epoch 135/200\n",
      "7/7 [==============================] - 0s 12ms/step - loss: 0.5731 - accuracy: 0.6808 - val_loss: 0.6456 - val_accuracy: 0.6623\n",
      "Epoch 136/200\n",
      "7/7 [==============================] - 0s 13ms/step - loss: 0.5729 - accuracy: 0.6824 - val_loss: 0.6461 - val_accuracy: 0.6623\n",
      "Epoch 137/200\n",
      "7/7 [==============================] - 0s 12ms/step - loss: 0.5726 - accuracy: 0.6808 - val_loss: 0.6491 - val_accuracy: 0.6623\n",
      "Epoch 138/200\n",
      "7/7 [==============================] - 0s 12ms/step - loss: 0.5725 - accuracy: 0.6840 - val_loss: 0.6490 - val_accuracy: 0.6558\n",
      "Epoch 139/200\n",
      "7/7 [==============================] - 0s 12ms/step - loss: 0.5722 - accuracy: 0.6808 - val_loss: 0.6476 - val_accuracy: 0.6558\n",
      "Epoch 140/200\n",
      "7/7 [==============================] - 0s 10ms/step - loss: 0.5722 - accuracy: 0.6792 - val_loss: 0.6476 - val_accuracy: 0.6558\n",
      "Epoch 141/200\n",
      "7/7 [==============================] - 0s 10ms/step - loss: 0.5715 - accuracy: 0.6808 - val_loss: 0.6468 - val_accuracy: 0.6558\n",
      "Epoch 142/200\n",
      "7/7 [==============================] - 0s 13ms/step - loss: 0.5712 - accuracy: 0.6808 - val_loss: 0.6473 - val_accuracy: 0.6558\n",
      "Epoch 143/200\n",
      "7/7 [==============================] - 0s 14ms/step - loss: 0.5709 - accuracy: 0.6824 - val_loss: 0.6475 - val_accuracy: 0.6623\n",
      "Epoch 144/200\n",
      "7/7 [==============================] - 0s 11ms/step - loss: 0.5701 - accuracy: 0.6824 - val_loss: 0.6460 - val_accuracy: 0.6688\n",
      "Epoch 145/200\n",
      "7/7 [==============================] - 0s 13ms/step - loss: 0.5699 - accuracy: 0.6775 - val_loss: 0.6455 - val_accuracy: 0.6623\n",
      "Epoch 146/200\n",
      "7/7 [==============================] - 0s 13ms/step - loss: 0.5702 - accuracy: 0.6808 - val_loss: 0.6445 - val_accuracy: 0.6688\n",
      "Epoch 147/200\n",
      "7/7 [==============================] - 0s 12ms/step - loss: 0.5689 - accuracy: 0.6808 - val_loss: 0.6459 - val_accuracy: 0.6688\n",
      "Epoch 148/200\n",
      "7/7 [==============================] - 0s 13ms/step - loss: 0.5692 - accuracy: 0.6840 - val_loss: 0.6467 - val_accuracy: 0.6623\n",
      "Epoch 149/200\n",
      "7/7 [==============================] - 0s 14ms/step - loss: 0.5690 - accuracy: 0.6857 - val_loss: 0.6462 - val_accuracy: 0.6688\n",
      "Epoch 150/200\n",
      "7/7 [==============================] - 0s 12ms/step - loss: 0.5686 - accuracy: 0.6824 - val_loss: 0.6461 - val_accuracy: 0.6688\n",
      "Epoch 151/200\n",
      "7/7 [==============================] - 0s 11ms/step - loss: 0.5685 - accuracy: 0.6775 - val_loss: 0.6464 - val_accuracy: 0.6623\n",
      "Epoch 152/200\n",
      "7/7 [==============================] - 0s 13ms/step - loss: 0.5682 - accuracy: 0.6808 - val_loss: 0.6478 - val_accuracy: 0.6623\n",
      "Epoch 153/200\n",
      "7/7 [==============================] - 0s 10ms/step - loss: 0.5677 - accuracy: 0.6792 - val_loss: 0.6486 - val_accuracy: 0.6623\n",
      "Epoch 154/200\n",
      "7/7 [==============================] - 0s 11ms/step - loss: 0.5673 - accuracy: 0.6792 - val_loss: 0.6477 - val_accuracy: 0.6623\n",
      "Epoch 155/200\n",
      "7/7 [==============================] - 0s 11ms/step - loss: 0.5669 - accuracy: 0.6873 - val_loss: 0.6474 - val_accuracy: 0.6494\n",
      "Epoch 156/200\n",
      "7/7 [==============================] - 0s 10ms/step - loss: 0.5663 - accuracy: 0.6873 - val_loss: 0.6467 - val_accuracy: 0.6558\n",
      "Epoch 157/200\n",
      "7/7 [==============================] - 0s 10ms/step - loss: 0.5658 - accuracy: 0.6857 - val_loss: 0.6463 - val_accuracy: 0.6558\n",
      "Epoch 158/200\n",
      "7/7 [==============================] - 0s 13ms/step - loss: 0.5657 - accuracy: 0.6857 - val_loss: 0.6466 - val_accuracy: 0.6558\n",
      "Epoch 159/200\n",
      "7/7 [==============================] - 0s 11ms/step - loss: 0.5655 - accuracy: 0.6857 - val_loss: 0.6461 - val_accuracy: 0.6623\n",
      "Epoch 160/200\n",
      "7/7 [==============================] - 0s 12ms/step - loss: 0.5651 - accuracy: 0.6824 - val_loss: 0.6468 - val_accuracy: 0.6623\n",
      "Epoch 161/200\n",
      "7/7 [==============================] - 0s 11ms/step - loss: 0.5648 - accuracy: 0.6857 - val_loss: 0.6470 - val_accuracy: 0.6494\n",
      "Epoch 162/200\n",
      "7/7 [==============================] - 0s 12ms/step - loss: 0.5647 - accuracy: 0.6873 - val_loss: 0.6455 - val_accuracy: 0.6623\n",
      "Epoch 163/200\n",
      "7/7 [==============================] - 0s 12ms/step - loss: 0.5646 - accuracy: 0.6824 - val_loss: 0.6438 - val_accuracy: 0.6558\n",
      "Epoch 164/200\n",
      "7/7 [==============================] - 0s 13ms/step - loss: 0.5645 - accuracy: 0.6824 - val_loss: 0.6434 - val_accuracy: 0.6688\n",
      "Epoch 165/200\n",
      "7/7 [==============================] - 0s 17ms/step - loss: 0.5638 - accuracy: 0.6857 - val_loss: 0.6438 - val_accuracy: 0.6623\n",
      "Epoch 166/200\n",
      "7/7 [==============================] - 0s 12ms/step - loss: 0.5633 - accuracy: 0.6906 - val_loss: 0.6453 - val_accuracy: 0.6104\n",
      "Epoch 167/200\n",
      "7/7 [==============================] - 0s 13ms/step - loss: 0.5632 - accuracy: 0.7117 - val_loss: 0.6457 - val_accuracy: 0.6169\n",
      "Epoch 168/200\n",
      "7/7 [==============================] - 0s 11ms/step - loss: 0.5629 - accuracy: 0.7068 - val_loss: 0.6441 - val_accuracy: 0.6299\n",
      "Epoch 169/200\n",
      "7/7 [==============================] - 0s 11ms/step - loss: 0.5627 - accuracy: 0.7068 - val_loss: 0.6427 - val_accuracy: 0.6299\n",
      "Epoch 170/200\n",
      "7/7 [==============================] - 0s 10ms/step - loss: 0.5626 - accuracy: 0.7052 - val_loss: 0.6438 - val_accuracy: 0.6169\n",
      "Epoch 171/200\n",
      "7/7 [==============================] - 0s 10ms/step - loss: 0.5620 - accuracy: 0.7101 - val_loss: 0.6471 - val_accuracy: 0.6039\n",
      "Epoch 172/200\n",
      "7/7 [==============================] - 0s 10ms/step - loss: 0.5622 - accuracy: 0.7101 - val_loss: 0.6480 - val_accuracy: 0.5974\n",
      "Epoch 173/200\n",
      "7/7 [==============================] - 0s 12ms/step - loss: 0.5616 - accuracy: 0.7134 - val_loss: 0.6475 - val_accuracy: 0.6169\n",
      "Epoch 174/200\n",
      "7/7 [==============================] - 0s 12ms/step - loss: 0.5616 - accuracy: 0.7068 - val_loss: 0.6468 - val_accuracy: 0.6299\n"
     ]
    },
    {
     "name": "stdout",
     "output_type": "stream",
     "text": [
      "Epoch 175/200\n",
      "7/7 [==============================] - 0s 12ms/step - loss: 0.5612 - accuracy: 0.7085 - val_loss: 0.6434 - val_accuracy: 0.6364\n",
      "Epoch 176/200\n",
      "7/7 [==============================] - 0s 13ms/step - loss: 0.5617 - accuracy: 0.7085 - val_loss: 0.6437 - val_accuracy: 0.6169\n",
      "Epoch 177/200\n",
      "7/7 [==============================] - 0s 14ms/step - loss: 0.5607 - accuracy: 0.7117 - val_loss: 0.6443 - val_accuracy: 0.6169\n",
      "Epoch 178/200\n",
      "7/7 [==============================] - 0s 13ms/step - loss: 0.5606 - accuracy: 0.7085 - val_loss: 0.6456 - val_accuracy: 0.6299\n",
      "Epoch 179/200\n",
      "7/7 [==============================] - 0s 11ms/step - loss: 0.5610 - accuracy: 0.7003 - val_loss: 0.6466 - val_accuracy: 0.6234\n",
      "Epoch 180/200\n",
      "7/7 [==============================] - 0s 11ms/step - loss: 0.5604 - accuracy: 0.7036 - val_loss: 0.6469 - val_accuracy: 0.6299\n",
      "Epoch 181/200\n",
      "7/7 [==============================] - 0s 12ms/step - loss: 0.5597 - accuracy: 0.7085 - val_loss: 0.6467 - val_accuracy: 0.6104\n",
      "Epoch 182/200\n",
      "7/7 [==============================] - 0s 13ms/step - loss: 0.5591 - accuracy: 0.7085 - val_loss: 0.6468 - val_accuracy: 0.6104\n",
      "Epoch 183/200\n",
      "7/7 [==============================] - 0s 12ms/step - loss: 0.5593 - accuracy: 0.7150 - val_loss: 0.6465 - val_accuracy: 0.6104\n",
      "Epoch 184/200\n",
      "7/7 [==============================] - 0s 12ms/step - loss: 0.5600 - accuracy: 0.7101 - val_loss: 0.6465 - val_accuracy: 0.6104\n",
      "Epoch 185/200\n",
      "7/7 [==============================] - 0s 10ms/step - loss: 0.5599 - accuracy: 0.7101 - val_loss: 0.6474 - val_accuracy: 0.6169\n",
      "Epoch 186/200\n",
      "7/7 [==============================] - 0s 10ms/step - loss: 0.5582 - accuracy: 0.7085 - val_loss: 0.6495 - val_accuracy: 0.6104\n",
      "Epoch 187/200\n",
      "7/7 [==============================] - 0s 12ms/step - loss: 0.5591 - accuracy: 0.7117 - val_loss: 0.6491 - val_accuracy: 0.6039\n",
      "Epoch 188/200\n",
      "7/7 [==============================] - 0s 13ms/step - loss: 0.5585 - accuracy: 0.7117 - val_loss: 0.6508 - val_accuracy: 0.6104\n",
      "Epoch 189/200\n",
      "7/7 [==============================] - 0s 11ms/step - loss: 0.5588 - accuracy: 0.7101 - val_loss: 0.6487 - val_accuracy: 0.6169\n",
      "Epoch 190/200\n",
      "7/7 [==============================] - 0s 14ms/step - loss: 0.5589 - accuracy: 0.7117 - val_loss: 0.6476 - val_accuracy: 0.6104\n",
      "Epoch 191/200\n",
      "7/7 [==============================] - 0s 12ms/step - loss: 0.5578 - accuracy: 0.7101 - val_loss: 0.6484 - val_accuracy: 0.6104\n",
      "Epoch 192/200\n",
      "7/7 [==============================] - 0s 11ms/step - loss: 0.5576 - accuracy: 0.7134 - val_loss: 0.6464 - val_accuracy: 0.6234\n",
      "Epoch 193/200\n",
      "7/7 [==============================] - 0s 10ms/step - loss: 0.5581 - accuracy: 0.7085 - val_loss: 0.6453 - val_accuracy: 0.6364\n",
      "Epoch 194/200\n",
      "7/7 [==============================] - 0s 10ms/step - loss: 0.5590 - accuracy: 0.7020 - val_loss: 0.6416 - val_accuracy: 0.6234\n",
      "Epoch 195/200\n",
      "7/7 [==============================] - 0s 12ms/step - loss: 0.5581 - accuracy: 0.7052 - val_loss: 0.6405 - val_accuracy: 0.6429\n",
      "Epoch 196/200\n",
      "7/7 [==============================] - 0s 10ms/step - loss: 0.5579 - accuracy: 0.7085 - val_loss: 0.6435 - val_accuracy: 0.6364\n",
      "Epoch 197/200\n",
      "7/7 [==============================] - 0s 11ms/step - loss: 0.5573 - accuracy: 0.7117 - val_loss: 0.6458 - val_accuracy: 0.6299\n",
      "Epoch 198/200\n",
      "7/7 [==============================] - 0s 10ms/step - loss: 0.5569 - accuracy: 0.7117 - val_loss: 0.6465 - val_accuracy: 0.6299\n",
      "Epoch 199/200\n",
      "7/7 [==============================] - 0s 11ms/step - loss: 0.5564 - accuracy: 0.7134 - val_loss: 0.6470 - val_accuracy: 0.6169\n",
      "Epoch 200/200\n",
      "7/7 [==============================] - 0s 12ms/step - loss: 0.5572 - accuracy: 0.7117 - val_loss: 0.6474 - val_accuracy: 0.6104\n"
     ]
    }
   ],
   "source": [
    "## Model Fiting\n",
    "## Stochastic - Mini Batch Gradient Discent \n",
    "\n",
    "cal_history = nn_model.fit(x, y, validation_split=0.20, epochs=200, batch_size=100)\n"
   ]
  },
  {
   "cell_type": "code",
   "execution_count": 9,
   "id": "0485c75d",
   "metadata": {},
   "outputs": [],
   "source": [
    "nn_model.save_weights('myfirst.kmw') # keras model weights"
   ]
  },
  {
   "cell_type": "code",
   "execution_count": 10,
   "id": "fcd92235",
   "metadata": {},
   "outputs": [
    {
     "name": "stdout",
     "output_type": "stream",
     "text": [
      "24/24 [==============================] - 1s 3ms/step - loss: 0.5754 - accuracy: 0.6927\n"
     ]
    }
   ],
   "source": [
    "# evaluate the model - Accuracy & Loss  - PREDICT\n",
    "cal_score = nn_model.evaluate(x,y)"
   ]
  },
  {
   "cell_type": "code",
   "execution_count": 11,
   "id": "11f1c703",
   "metadata": {},
   "outputs": [
    {
     "data": {
      "text/plain": [
       "'loss'"
      ]
     },
     "execution_count": 11,
     "metadata": {},
     "output_type": "execute_result"
    }
   ],
   "source": [
    "nn_model.metrics_names[0]"
   ]
  },
  {
   "cell_type": "code",
   "execution_count": 12,
   "id": "09d44596",
   "metadata": {},
   "outputs": [
    {
     "data": {
      "text/plain": [
       "'accuracy'"
      ]
     },
     "execution_count": 12,
     "metadata": {},
     "output_type": "execute_result"
    }
   ],
   "source": [
    "nn_model.metrics_names[1]"
   ]
  },
  {
   "cell_type": "code",
   "execution_count": 13,
   "id": "1d53534f",
   "metadata": {},
   "outputs": [
    {
     "data": {
      "text/plain": [
       "0.5753641128540039"
      ]
     },
     "execution_count": 13,
     "metadata": {},
     "output_type": "execute_result"
    }
   ],
   "source": [
    "cal_score[0]"
   ]
  },
  {
   "cell_type": "code",
   "execution_count": 14,
   "id": "73ac509d",
   "metadata": {},
   "outputs": [
    {
     "data": {
      "text/plain": [
       "0.6927083134651184"
      ]
     },
     "execution_count": 14,
     "metadata": {},
     "output_type": "execute_result"
    }
   ],
   "source": [
    "cal_score[1]"
   ]
  },
  {
   "cell_type": "code",
   "execution_count": null,
   "id": "fce2b285",
   "metadata": {},
   "outputs": [],
   "source": []
  },
  {
   "cell_type": "code",
   "execution_count": 15,
   "id": "d3c92a14",
   "metadata": {},
   "outputs": [
    {
     "data": {
      "text/plain": [
       "dict_keys(['loss', 'accuracy', 'val_loss', 'val_accuracy'])"
      ]
     },
     "execution_count": 15,
     "metadata": {},
     "output_type": "execute_result"
    }
   ],
   "source": [
    "## Visualization for selecting best Epoch\n",
    "\n",
    "cal_history.history.keys()"
   ]
  },
  {
   "cell_type": "code",
   "execution_count": 16,
   "id": "c7d67ba1",
   "metadata": {},
   "outputs": [
    {
     "data": {
      "text/plain": [
       "<matplotlib.legend.Legend at 0x1e28ab8cf70>"
      ]
     },
     "execution_count": 16,
     "metadata": {},
     "output_type": "execute_result"
    },
    {
     "data": {
      "image/png": "[encoded data removed]",
      "text/plain": [
       "<Figure size 1440x504 with 1 Axes>"
      ]
     },
     "metadata": {},
     "output_type": "display_data"
    }
   ],
   "source": [
    "plt.figure(figsize=(20,7))\n",
    "\n",
    "plt.plot(cal_history.history['accuracy'])\n",
    "plt.plot(cal_history.history['val_accuracy'])\n",
    "\n",
    "plt.xlabel('epochs')\n",
    "plt.ylabel('accuracy')\n",
    "plt.title('NN Model - Accuracy')\n",
    "\n",
    "plt.legend(['train','test'],loc = 'upper left')"
   ]
  },
  {
   "cell_type": "code",
   "execution_count": null,
   "id": "c6e05850",
   "metadata": {},
   "outputs": [],
   "source": [
    "# we can see the for 1st almost 65-70 epochs accuracy is same, 75 its 70% after that it inc slowly\n",
    "# so we can choose 75 epochs instead of 200"
   ]
  },
  {
   "cell_type": "code",
   "execution_count": null,
   "id": "148ac048",
   "metadata": {},
   "outputs": [],
   "source": []
  },
  {
   "cell_type": "code",
   "execution_count": 18,
   "id": "7618121f",
   "metadata": {},
   "outputs": [
    {
     "data": {
      "text/plain": [
       "<matplotlib.legend.Legend at 0x1e28b315970>"
      ]
     },
     "execution_count": 18,
     "metadata": {},
     "output_type": "execute_result"
    },
    {
     "data": {
      "image/png": "[encoded data removed]",
      "text/plain": [
       "<Figure size 1440x504 with 1 Axes>"
      ]
     },
     "metadata": {},
     "output_type": "display_data"
    }
   ],
   "source": [
    "plt.figure(figsize=(20,7))\n",
    "\n",
    "plt.plot(cal_history.history['loss'])\n",
    "plt.plot(cal_history.history['val_loss'])\n",
    "\n",
    "plt.xlabel('epochs')\n",
    "plt.ylabel('Loss')\n",
    "plt.title('NN Model Loss')\n",
    "\n",
    "plt.legend(['train','test'],loc = 'upper left')"
   ]
  },
  {
   "cell_type": "code",
   "execution_count": null,
   "id": "09a1957f",
   "metadata": {},
   "outputs": [],
   "source": []
  },
  {
   "cell_type": "code",
   "execution_count": null,
   "id": "81fbd17e",
   "metadata": {},
   "outputs": [],
   "source": []
  },
  {
   "cell_type": "code",
   "execution_count": null,
   "id": "b29d3498",
   "metadata": {},
   "outputs": [],
   "source": []
  }
 ],
 "metadata": {
  "kernelspec": {
   "display_name": "Python 3 (ipykernel)",
   "language": "python",
   "name": "python3"
  },
  "language_info": {
   "codemirror_mode": {
    "name": "ipython",
    "version": 3
   },
   "file_extension": ".py",
   "mimetype": "text/x-python",
   "name": "python",
   "nbconvert_exporter": "python",
   "pygments_lexer": "ipython3",
   "version": "3.9.7"
  },
  "varInspector": {
   "cols": {
    "lenName": 16,
    "lenType": 16,
    "lenVar": 40
   },
   "kernels_config": {
    "python": {
     "delete_cmd_postfix": "",
     "delete_cmd_prefix": "del ",
     "library": "var_list.py",
     "varRefreshCmd": "print(var_dic_list())"
    },
    "r": {
     "delete_cmd_postfix": ") ",
     "delete_cmd_prefix": "rm(",
     "library": "var_list.r",
     "varRefreshCmd": "cat(var_dic_list()) "
    }
   },
   "types_to_exclude": [
    "module",
    "function",
    "builtin_function_or_method",
    "instance",
    "_Feature"
   ],
   "window_display": false
  }
 },
 "nbformat": 4,
 "nbformat_minor": 5
}
